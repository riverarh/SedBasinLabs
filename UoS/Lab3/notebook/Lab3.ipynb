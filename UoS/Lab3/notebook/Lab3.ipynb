{
 "cells": [
  {
   "cell_type": "markdown",
   "metadata": {},
   "source": [
    "# GEOS3102 Lab 3: Seismic Reflection Surveys"
   ]
  },
  {
   "cell_type": "code",
   "execution_count": null,
   "metadata": {
    "collapsed": false
   },
   "outputs": [],
   "source": [
    "# Import the necessary packages\n",
    "%pylab inline\n",
    "\n",
    "import sys\n",
    "sys.path.append('../code/SyntheticSeismogram')\n",
    "\n",
    "from syntheticSeismogramImport import *  \n",
    "\n",
    "%matplotlib inline"
   ]
  },
  {
   "cell_type": "markdown",
   "metadata": {},
   "source": [
    "# Part 1 - Introductory Exercise: Constructing a Synthetic Seismic Reflection"
   ]
  },
  {
   "cell_type": "markdown",
   "metadata": {},
   "source": [
    "Seismic reflection surveys are a key tool used in the hydrocarbon and minerals industry to interpret the subsurface. The basic seismic signal results in changes in acoustic impedance (density x velocity). Different rocks have different densities and this generally corresponds to increasing velocity.\n",
    " Some typical rock parameters;\n",
    " \n",
    "\tBasalt: v =5500m/s & density = 2.9g/cc\n",
    "\tLimestone: v =6000m/s & density = 2.5g/cc\n",
    "\tSandstone: v =3700m/s & density = 2.5g/cc\n",
    "\tShale: v =3200m/s & density = 2.4g/cc\n",
    "\tCoal: v =2000m/s & density = 1.5g/cc\n",
    "\tWater: v =1500m/s & density = 1g/cc\n",
    "\tAir: v =300m/s & density = 0.0012g/cc\n",
    " \n",
    "We can then display peaks and troughs in RC as peaks and troughs, various colour scales are used. The ‘image’ results from seismic wave propogation through a diverse medium.\n",
    "Seismic data are based on TWT (two way travel time), we may later convert the data to depth, but this relies on good velocity information.\n",
    "When we interpret seismic data, we want to trace the same geological boundary and/or packages over great distances. In order to help us do that, while minimizing misties, we define the geological boundary and internal bedform characteristics as shown below – and be sure to ‘pick’ the same seismic character as we move through the survey.\n"
   ]
  },
  {
   "cell_type": "markdown",
   "metadata": {},
   "source": [
    "<img src=\"../code/SyntheticSeismogram/Figures/rt2interface.png\" style=\"width: 40%; height: 40%\"></img>"
   ]
  },
  {
   "cell_type": "markdown",
   "metadata": {},
   "source": [
    "## Q1-3. Experimenting with the Reflectivity Series.\n",
    "We begin by constructing a reflectivity series from the physical property model. The physical properties characterizing the model are:\n",
    "- density ($\\rho$) and \n",
    "- seismic velocity ($v$)\n",
    "\n",
    "The acoustic impedance of each layer is:\n",
    "$$\n",
    "Z_i = \\rho_i v_i\n",
    "$$\n",
    "\n",
    "From acoustic impedance, the down-going reflection coefficient for each interface is given by\n",
    "$$\n",
    "r_{i,i+1} = \\frac{Z_{i+1}-Z_i}{Z_{i+1}+Z_i}\n",
    "$$\n",
    "\n",
    "\n",
    "We are going to create an interactive plot that allows us to see the effect of rock properties on Z and reflectivity"
   ]
  },
  {
   "cell_type": "code",
   "execution_count": null,
   "metadata": {
    "collapsed": false
   },
   "outputs": [],
   "source": [
    "# Create Interactive Plot for Logs\n",
    "logs = interact(plotLogsInteract,d2=(0.,100.,5),d3=(100.,200.,5),\n",
    "                rho1=(0.,5000.,50.),rho2=(1000.,5000.,50.),rho3=(1000.,5000.,50.),\n",
    "                v1=(300.,4000.,50.),v2=(300.,4000.,50.),v3=(300.,4000.,50.))"
   ]
  },
  {
   "cell_type": "markdown",
   "metadata": {},
   "source": [
    "## Q4. Converting from Depth to Time\n",
    "We often apply a conversion from depth to time or from time to depth when using seismic data. We do this by establishing the velovity relationship between geological layers - computing the time it takes for a signal to reach a given depth and return to the surface (TWT, two way time)"
   ]
  },
  {
   "cell_type": "code",
   "execution_count": null,
   "metadata": {
    "collapsed": false
   },
   "outputs": [],
   "source": [
    "# Create depth-time interactive plot\n",
    "interact(plotTimeDepthInteract, d2=(0.,100.,5), d3=(100.,200.,5), \n",
    "         rho1=(0.,5000.,50.),rho2=(1000.,5000.,50.),rho3=(1000.,5000.,50.),\n",
    "         v1=(300.,4000.,50.), v2=(300.,4000.,50.), v3=(300.,4000.,50.))"
   ]
  },
  {
   "cell_type": "markdown",
   "metadata": {},
   "source": [
    "## Q5. Wavelet * Reflectivity = Seismogram"
   ]
  },
  {
   "cell_type": "markdown",
   "metadata": {},
   "source": [
    "Collecting seismic data requires an energy source to generate waves and sensors to receive those waves. The appropriate energy source and receiver depend on the location and the application.\n",
    "\n",
    "Now that we have the reflectivity series in time, the next step is to choose the input pulse and construct our seismogram. For the following examples, we will use a <a href=\"http://subsurfwiki.org/wiki/Ricker_wavelet\">Ricker Wavelet</a> with peak frequency $f$. \n",
    "\n",
    "A seismogram is the convolution of the wavelet and reflectivity series. Here, you can adjust the peak frequency (wavF) of the wavelet and its amplitude (wavA). "
   ]
  },
  {
   "cell_type": "markdown",
   "metadata": {},
   "source": [
    "We are going to assign a fixed model so that we can experiment with the resultant seismogram.\n",
    "Input the appropriate depths, velocities and densities into the fixed model below..."
   ]
  },
  {
   "cell_type": "code",
   "execution_count": null,
   "metadata": {
    "collapsed": true
   },
   "outputs": [],
   "source": [
    "def plotSeismogramInteractFixMod(wavf,wavA):\n",
    "    d      = [0., 20., 150.]      # Position of top of each layer (m)\n",
    "    v      = [500., 1000., 1500.]  # Velocity of each layer (m/s)\n",
    "    rho    = [3000., 5000., 2500.] # Density of each layer (kg/m^3)\n",
    "    wavf   = np.array(wavf, dtype=float)\n",
    "    usingT = True\n",
    "    plotSeismogram(d, rho, v, wavf, wavA, 0., usingT)"
   ]
  },
  {
   "cell_type": "code",
   "execution_count": null,
   "metadata": {
    "collapsed": false
   },
   "outputs": [],
   "source": [
    "# Interactive seismogram plot for a fixed geologic model\n",
    "interact(plotSeismogramInteractFixMod,wavf=(5.,100.,5.),wavA=(-2.,2.,0.25))"
   ]
  },
  {
   "cell_type": "markdown",
   "metadata": {},
   "source": [
    "## Q6. Model Comparison"
   ]
  },
  {
   "cell_type": "code",
   "execution_count": null,
   "metadata": {
    "collapsed": false
   },
   "outputs": [],
   "source": [
    "def plotSeismogramInteractFixMod2(wavf,wavA):\n",
    "    d      = [0., 20., 150.]      # Position of top of each layer (m)\n",
    "    v      = [500., 1000., 1500.]  # Velocity of each layer (m/s)\n",
    "    rho    = [1000., 1000., 2500.] # Density of each layer (kg/m^3)\n",
    "    wavf   = np.array(wavf, dtype=float)\n",
    "    usingT = True\n",
    "    plotSeismogram(d, rho, v, wavf, wavA, 0., usingT)\n",
    "# Interactive seismogram plot for a fixed geologic model\n",
    "interact(plotSeismogramInteractFixMod2,wavf=(5.,100.,5.),wavA=(-2.,2.,0.25))"
   ]
  },
  {
   "cell_type": "code",
   "execution_count": null,
   "metadata": {
    "collapsed": true
   },
   "outputs": [],
   "source": []
  }
 ],
 "metadata": {
  "kernelspec": {
   "display_name": "Python 2",
   "language": "python",
   "name": "python2"
  },
  "language_info": {
   "codemirror_mode": {
    "name": "ipython",
    "version": 2
   },
   "file_extension": ".py",
   "mimetype": "text/x-python",
   "name": "python",
   "nbconvert_exporter": "python",
   "pygments_lexer": "ipython2",
   "version": "2.7.9"
  }
 },
 "nbformat": 4,
 "nbformat_minor": 0
}
