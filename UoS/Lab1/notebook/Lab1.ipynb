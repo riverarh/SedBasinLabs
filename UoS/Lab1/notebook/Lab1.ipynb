{
 "cells": [
  {
   "cell_type": "markdown",
   "metadata": {},
   "source": [
    "## Lab 1\n",
    "\n",
    "## Global Petroleum Resources\n",
    "\n",
    "The main goal of this project is to help you get comfortable with iPython notebooks and to familiarize yourself with the language of the petroleum industry. \n",
    "In this first part we will introduces the Basemap library part of the python suite. This library can be used to create maps and plot geographical datasets.\n",
    "The database you will be plotting comes from the USGS (http://pubs.usgs.gov/dds/dds-069/dds-069-ff/downloads/GIS/metadata/) and contains the following headers:\n",
    "* Name\n",
    "* GOR = Gas-Oil-Ratio\n",
    "* O_G = Primarily an oil or gas field\n",
    "* CUM_OIL = Cumulative oil produced \n",
    "* REM_OIL = Remaining oil\n",
    "* KWN_OIL = Known oil in place\n",
    "* CUM_GAS = Cumulative gas produced\n",
    "* REM_GAS = Remaining gas\n",
    "* KWN_GAS = Known gas in place\n",
    "\n",
    "Python’s [matplotlib](http://matplotlib.org/) package is an amazing resource, and the [Basemap toolkit](http://matplotlib.org/basemap/) extends matplotlib’s capabilities to mapping applications.\n",
    "\n",
    "We will use them to make maps of global hydrocarbon resources. The first thing consists in `importing` these libraries into our environment. "
   ]
  },
  {
   "cell_type": "markdown",
   "metadata": {},
   "source": [
    "## Making Simple Maps\n",
    "The following code uses Basemap and Matplotlib libraries from python, we start by importing the libraries, then defining the figure size & bounds"
   ]
  },
  {
   "cell_type": "code",
   "execution_count": null,
   "metadata": {
    "collapsed": false
   },
   "outputs": [],
   "source": [
    "import pandas as pd\n",
    "import numpy as np\n",
    "import scipy as sp\n",
    "import matplotlib.cm as cm"
   ]
  },
  {
   "cell_type": "code",
   "execution_count": null,
   "metadata": {
    "collapsed": false
   },
   "outputs": [],
   "source": [
    "from pylab import rcParams\n",
    "import warnings\n",
    "warnings.filterwarnings('ignore')\n",
    "%matplotlib inline\n",
    "rcParams['figure.figsize'] = (12,10)\n",
    "\n",
    "from mpl_toolkits.basemap import Basemap\n",
    "import matplotlib.pyplot as plt\n",
    "import numpy as np\n",
    "import matplotlib.pyplot as plt\n",
    "from matplotlib.patches import Polygon\n",
    "from matplotlib.collections import PatchCollection\n",
    "from matplotlib.patches import PathPatch\n",
    "\n",
    "fig     = plt.figure()\n",
    "ax      = fig.add_subplot(111)\n",
    "\n",
    "## Defining the bounds of the figure\n",
    "\n",
    "map = Basemap(llcrnrlon=-180,llcrnrlat=-70,urcrnrlon=180,urcrnrlat=80.,\n",
    "             resolution='l', projection='merc', lat_0 = 39.5, lon_0 = 1)\n",
    "\n",
    "map.fillcontinents(color='#C0C0C0')\n",
    "map.drawcoastlines()\n",
    "map.drawparallels(np.arange(-80,80,20),labels=[1,0,0,0], fontsize=10)\n",
    "map.drawmeridians(np.arange(-180,180,20),labels=[0,0,0,1], fontsize=10)\n",
    "map.readshapefile('../Data/Oil_Gas_Outlines', 'Oil_Gas_Outlines',drawbounds = False)\n",
    "\n",
    "## We will define each of the polygons\n",
    "\n",
    "patchesOil   = []\n",
    "patchesGas   = []\n",
    "\n",
    "## Now we want to colour in the polygons, red for gas, oil in green\n",
    "\n",
    "for info, shape in zip(map.Oil_Gas_Outlines_info, map.Oil_Gas_Outlines):\n",
    "    if info['O_G'] == 'Oil':\n",
    "        patchesOil.append( Polygon(np.array(shape), True) )\n",
    "    if info['O_G'] == 'Gas':\n",
    "        patchesGas.append( Polygon(np.array(shape), True) )       \n",
    "ax.add_collection(PatchCollection(patchesOil, facecolor= 'g', edgecolor='k', linewidths=1., zorder=2))\n",
    "ax.add_collection(PatchCollection(patchesGas, facecolor= 'r', edgecolor='k', linewidths=1., zorder=2))\n",
    "\n",
    "## Let's add a legend\n",
    "from matplotlib.lines import Line2D\n",
    "circ1 = Line2D([0], [0], linestyle=\"none\", marker=\"o\", alpha=1, markersize=10, markerfacecolor=\"red\")\n",
    "circ2 = Line2D([0], [0], linestyle=\"none\", marker=\"o\", alpha=1, markersize=10, markerfacecolor=\"green\")\n",
    "\n",
    "plt.legend((circ1, circ2), (\"Gas\", \"Oil\"), numpoints=1, loc=\"best\")\n",
    "\n",
    "plt.show()"
   ]
  },
  {
   "cell_type": "markdown",
   "metadata": {},
   "source": [
    "## Displaying Global Variability"
   ]
  },
  {
   "cell_type": "markdown",
   "metadata": {},
   "source": [
    "Petroleum is not distributed evenly around the world. More than half of the world’s proven oil reserves are located in the Middle East (including Iran but not North Africa); that is to say, the Middle East contains more oil than the rest of the world combined. \n",
    "Reserves are identified quantities of “in-place” petroleum that are considered recoverable under current economic and technological conditions as estimated by petroleum engineers and geologists. Oil is measured in MMBO (million barrels) and Gas is measures in BCF (billion cubic feet).\n",
    "\n",
    "Now we want to display this varability, first, let's look at the data;"
   ]
  },
  {
   "cell_type": "code",
   "execution_count": null,
   "metadata": {
    "collapsed": false
   },
   "outputs": [],
   "source": [
    "for info, shape in zip(map.Oil_Gas_Outlines_info, map.Oil_Gas_Outlines):\n",
    "    print (info['NAME'],info['O_G'],info['KWN_GAS'],info['KWN_OIL'])"
   ]
  },
  {
   "cell_type": "code",
   "execution_count": null,
   "metadata": {
    "collapsed": false
   },
   "outputs": [],
   "source": [
    "## Oil is measured in MMBO (million barrels) and Gas is measures in BCF (billion cubic feet). Let's define these\n",
    "\n",
    "MMBO ={}\n",
    "BCF ={}\n",
    "k = 0\n",
    "p = 0\n",
    "\n",
    "\n",
    "## Because the values vary so greatly, we need to display the Oil and Gas on a log scale, to do that, we need the maximum value\n",
    "from math import log\n",
    "import numpy as np\n",
    "\n",
    "for info, shape in zip(map.Oil_Gas_Outlines_info, map.Oil_Gas_Outlines):\n",
    "    if info['O_G'] == 'Oil':\n",
    "        MMBO[k] = info['KWN_OIL']\n",
    "        k += 1\n",
    "    if info['O_G'] == 'Gas':\n",
    "        BCF[p] = info['KWN_GAS']\n",
    "        p += 1\n",
    "\n",
    "oil = np.array(MMBO.values(), dtype=float)\n",
    "gas = np.array(BCF.values(), dtype=float)\n",
    "\n",
    "oilmax = log(oil.max())\n",
    "gasmax = log(gas.max())\n",
    "\n",
    "print oilmax\n",
    "print gasmax"
   ]
  },
  {
   "cell_type": "markdown",
   "metadata": {},
   "source": [
    "## Now let's display global hydrocarbon resources by volume"
   ]
  },
  {
   "cell_type": "code",
   "execution_count": null,
   "metadata": {
    "collapsed": false,
    "scrolled": false
   },
   "outputs": [],
   "source": [
    "rcParams['figure.figsize'] = (25,8)\n",
    "fig     = plt.figure()\n",
    "ax      = fig.add_subplot(111)\n",
    "\n",
    "map = Basemap(llcrnrlon=-180,llcrnrlat=-70,urcrnrlon=180,urcrnrlat=80.,\n",
    "             resolution='l', projection='merc', lat_0 = 39.5, lon_0 = 1)\n",
    "\n",
    "map.fillcontinents(color='#C0C0C0')\n",
    "map.drawcoastlines()\n",
    "map.drawparallels(np.arange(-80,81,20),labels=[1,0,0,0], fontsize=10)\n",
    "map.drawmeridians(np.arange(-180,180,20),labels=[0,0,0,1], fontsize=10)\n",
    "map.readshapefile('../data/Oil_Gas_Outlines', 'Oil_Gas_Outlines',drawbounds = False)\n",
    "\n",
    "for info, shape in zip(map.Oil_Gas_Outlines_info, map.Oil_Gas_Outlines):\n",
    "    if info['O_G'] == 'Oil':\n",
    "        if info['KWN_OIL'] > 0.:\n",
    "            poly = Polygon(shape, facecolor=cm.YlGn(log(info['KWN_OIL'])/oilmax))\n",
    "            plt.gca().add_patch(poly)\n",
    "    if info['O_G'] == 'Gas':\n",
    "        if info['KWN_GAS'] > 0.:\n",
    "            poly = Polygon(shape, facecolor=cm.OrRd(log(info['KWN_GAS'])/gasmax))\n",
    "            plt.gca().add_patch(poly)\n",
    "\n",
    "#adds the colormap legend\n",
    "cmleg = np.zeros((1,oilmax))\n",
    "for i in range(int(oilmax)):\n",
    "    cmleg[0,i] = (i)\n",
    "plt.imshow(cmleg, cmap=plt.get_cmap(\"YlGn\"), aspect=1)\n",
    "plt.colorbar()\n",
    "\n",
    "#adds the colormap legend GAS\n",
    "cmleg = np.zeros((1,gasmax))\n",
    "for i in range(int(gasmax)):\n",
    "    cmleg[0,i] = (i)\n",
    "plt.imshow(cmleg, cmap=plt.get_cmap(\"OrRd\"), aspect=1)\n",
    "plt.colorbar()\n",
    "\n",
    "plt.show()"
   ]
  },
  {
   "cell_type": "markdown",
   "metadata": {},
   "source": [
    "## Produce a map of Australia. \n",
    "\n",
    "Before we move on to plotting points on the map, let’s see how to zoom in on a region. This is good to know because there are many data sets specific to one region of the world, which would get lost when plotted on a map of the whole world. Some projections can not be zoomed in at all, so if things are not working well, make sure to look at the [documentation](http://matplotlib.org/basemap/api/basemap_api.html).\n",
    "\n",
    "To do that, all we need to do is change the co-ordinate bounds;\n",
    "\n",
    "* llcrnrlon= lower left corner longitude\n",
    "* llcrnrlat= lower left corner latitude\n",
    "* urcrnrlon= upper right corner longitude\n",
    "* urcrnrlat= upper right corner latitude\n",
    "\n"
   ]
  },
  {
   "cell_type": "code",
   "execution_count": null,
   "metadata": {
    "collapsed": false
   },
   "outputs": [],
   "source": [
    "fig     = plt.figure()\n",
    "ax      = fig.add_subplot(111)\n",
    "\n",
    "map = Basemap(llcrnrlon=100,llcrnrlat=-50,urcrnrlon=180,urcrnrlat=10.,\n",
    "             resolution='l', projection='merc', lat_0 = 39.5, lon_0 = 1)\n",
    "\n",
    "map.fillcontinents(color='#C0C0C0')\n",
    "map.drawcoastlines()\n",
    "map.drawparallels(np.arange(-80,81,20),labels=[1,0,0,0], fontsize=10)\n",
    "map.drawmeridians(np.arange(-180,180,20),labels=[0,0,0,1], fontsize=10)\n",
    "map.readshapefile('../data/Oil_Gas_Outlines', 'Oil_Gas_Outlines',drawbounds = False)\n",
    "\n",
    "patchesOil   = []\n",
    "patchesGas   = []\n",
    "\n",
    "for info, shape in zip(map.Oil_Gas_Outlines_info, map.Oil_Gas_Outlines):\n",
    "    if info['O_G'] == 'Oil':\n",
    "        patchesOil.append( Polygon(np.array(shape), True) )\n",
    "    if info['O_G'] == 'Gas':\n",
    "        patchesGas.append( Polygon(np.array(shape), True) )\n",
    "ax.add_collection(PatchCollection(patchesOil, facecolor= 'g', edgecolor='k', linewidths=1., zorder=2))\n",
    "ax.add_collection(PatchCollection(patchesGas,facecolor= 'r', edgecolor='k', linewidths=1., zorder=2))\n",
    "\n",
    "## Add a legend\n",
    "from matplotlib.lines import Line2D\n",
    "circ1 = Line2D([0], [0], linestyle=\"none\", marker=\"o\", alpha=1, markersize=10, markerfacecolor=\"red\")\n",
    "circ2 = Line2D([0], [0], linestyle=\"none\", marker=\"o\", alpha=1, markersize=10, markerfacecolor=\"green\")\n",
    "\n",
    "plt.legend((circ1, circ2), (\"Gas\", \"Oil\"), numpoints=1, loc=\"best\")\n",
    "\n",
    "plt.show()"
   ]
  },
  {
   "cell_type": "markdown",
   "metadata": {},
   "source": [
    "## Now... let's lookup the total oil and gas reserves for each field in Australia.\n",
    "\n",
    "If we want to see the values for this region we need to look up the name of the fields in the attribute table;\n",
    "* Milligans-Carboniferous/Permian\n",
    "* Keyling/Hyland Bay-Permian\n",
    "* Jurassic/Early Cretaceous-Mesozoic\n",
    "* Locker-Mungaroo/Barrow\n",
    "* Latrobe\n",
    "* Late Jurassic/Early Cretaceous-Mesozoic\n",
    "* Dingo-Mungaroo/Barrow"
   ]
  },
  {
   "cell_type": "code",
   "execution_count": null,
   "metadata": {
    "collapsed": false
   },
   "outputs": [],
   "source": [
    "## The first one has been done for you.\n",
    "for info, shape in zip(map.Oil_Gas_Outlines_info, map.Oil_Gas_Outlines):\n",
    "    if info['NAME'] == 'Milligans-Carboniferous/Permian':\n",
    "        print (info['NAME'],info['O_G'],info['KWN_OIL'],info['KWN_GAS'])"
   ]
  },
  {
   "cell_type": "code",
   "execution_count": null,
   "metadata": {
    "collapsed": true
   },
   "outputs": [],
   "source": [
    "## You can add new cells by using the + button at the top of this window"
   ]
  },
  {
   "cell_type": "markdown",
   "metadata": {},
   "source": [
    "## Displaying Oil and Gas fields of Australia by Volume"
   ]
  },
  {
   "cell_type": "markdown",
   "metadata": {},
   "source": [
    "Just like we did for the world we will now display the oil and gas fields of Australia graded by volume, to do this, we need the maximum value for both oil and gas, to display by log scale"
   ]
  },
  {
   "cell_type": "code",
   "execution_count": null,
   "metadata": {
    "collapsed": false
   },
   "outputs": [],
   "source": [
    "rcParams['figure.figsize'] = (25,7)\n",
    "fig     = plt.figure()\n",
    "ax      = fig.add_subplot(111)\n",
    "\n",
    "map = Basemap(llcrnrlon=100,llcrnrlat=-50,urcrnrlon=180,urcrnrlat=10.,\n",
    "             resolution='l', projection='merc', lat_0 = 39.5, lon_0 = 1)\n",
    "\n",
    "#map.drawmapboundary(fill_color='aqua')\n",
    "map.fillcontinents(color='#C0C0C0') #,lake_color='aqua')\n",
    "map.drawcoastlines()\n",
    "map.drawparallels(np.arange(-80,81,20),labels=[1,0,0,0], fontsize=10)\n",
    "map.drawmeridians(np.arange(-180,180,20),labels=[0,0,0,1], fontsize=10)\n",
    "map.readshapefile('../data/Oil_Gas_Outlines', 'Oil_Gas_Outlines',drawbounds = False)\n",
    "\n",
    "#the readshapefile method allow you to call the shapefile's shapes and info.\n",
    "#Both are lists, the first containing a list of tuples (coordinates), and the second containig a dictionary with associated metadata\n",
    "\n",
    "oilmax = log(5000)\n",
    "print oilmax\n",
    "\n",
    "gasmax = log(10000)\n",
    "print gasmax\n",
    "\n",
    "for info, shape in zip(map.Oil_Gas_Outlines_info, map.Oil_Gas_Outlines):\n",
    "    if info['O_G'] == 'Oil':\n",
    "        if info['KWN_OIL']>0.:\n",
    "            poly = Polygon(shape, facecolor=cm.YlGn(log(info['KWN_OIL'])/oilmax))\n",
    "            plt.gca().add_patch(poly)\n",
    "    if info['O_G'] == 'Gas':\n",
    "        if info['KWN_GAS']>0.:\n",
    "            poly = Polygon(shape, facecolor=cm.OrRd(log(info['KWN_GAS'])/gasmax))\n",
    "            plt.gca().add_patch(poly)\n",
    "\n",
    "#adds the colormap legend\n",
    "cmleg = np.zeros((1,oilmax))\n",
    "for i in range(int(oilmax)):\n",
    "    cmleg[0,i] = (i)\n",
    "plt.imshow(cmleg, cmap=plt.get_cmap(\"YlGn\"), aspect=1)\n",
    "plt.colorbar()\n",
    "\n",
    "#adds the colormap legend GAS\n",
    "cmleg = np.zeros((1,gasmax))\n",
    "for i in range(int(gasmax)):\n",
    "    cmleg[0,i] = (i)\n",
    "plt.imshow(cmleg, cmap=plt.get_cmap(\"OrRd\"), aspect=1)\n",
    "plt.colorbar()\n",
    "\n",
    "plt.show()"
   ]
  },
  {
   "cell_type": "markdown",
   "metadata": {
    "collapsed": false
   },
   "source": [
    "## Manqa Oil Field"
   ]
  },
  {
   "cell_type": "code",
   "execution_count": null,
   "metadata": {
    "collapsed": false
   },
   "outputs": [],
   "source": [
    "for info, shape in zip(map.Oil_Gas_Outlines_info, map.Oil_Gas_Outlines):\n",
    "    if info['NAME'] == 'Maqna':\n",
    "        print (info['NAME'],info['O_G'],info['KWN_OIL'],info['KWN_GAS'])"
   ]
  },
  {
   "cell_type": "markdown",
   "metadata": {
    "collapsed": true
   },
   "source": [
    "Zoom in on the Manqa oil province in the Red Sea. What do you notice about its geometry? Can you hypothesize the tectonic origin of this oil field? "
   ]
  },
  {
   "cell_type": "code",
   "execution_count": null,
   "metadata": {
    "collapsed": true
   },
   "outputs": [],
   "source": [
    "## Make a map of the region here!"
   ]
  },
  {
   "cell_type": "markdown",
   "metadata": {},
   "source": [
    "## Calculating OOIP & OGIP\n",
    "Volumetric estimates of OOIP (original oil in place) and OGIP (original gas in place) are based on a geological model that geometrically describes the volume of hydrocarbons in the reservoir. However, due mainly to gas evolving from the oil as pressure and temperature are decreased, oil at the surface occupies less space than it does in the subsurface. Conversely, gas at the surface occupies more space than it does in the subsurface because of expansion. This necessitates correcting subsurface volumes to standard units of volume measured at surface conditions.\n",
    "One basic volumetric equation is\n",
    "\n",
    "N = [7758*a*h*ø*(1-Sw)]/Boi\n",
    "\n",
    "Where;\n",
    "* N = OOIP (STB, stock tank barrels)\n",
    "* 7758 = conversion factor from acre-ft to bbl\n",
    "* A = area of reservoir (acres) from map data\n",
    "* h = height or thickness of pay zone (ft) from log and/or core data\n",
    "* ø = porosity (decimal) from log and/or core data\n",
    "* Sw = connate water saturation (decimal) from log and/or core data\n",
    "* Boi = formation volume factor for oil at initial conditions (reservoir bbl/STB) from lab data\n",
    "\n",
    "Another basic volumetric equation is\n",
    "\n",
    "G = [43560*A*h*ø*(1-Sw)]/Bgi\n",
    "\n",
    "Where;\n",
    "* G = OGIP(SCF, standard cubic feet)\n",
    "* 43560 = conversion factor from acre-ft to ft3\n",
    "* Bgi = formation volume factor for gas at initial conditions (reservoir ft3/SCF)\n",
    "\n",
    "Recoverable reserves are a fraction of the OOIP or OGIP and are dependent on the efficiency of the reservoir drive mechanism. The basic equation used to calculate recoverable oil reserves is OOIP multiplied by a recovery factor (given to you by your reservoir engineers and dependent on the drive mechanism of the field)"
   ]
  },
  {
   "cell_type": "code",
   "execution_count": null,
   "metadata": {
    "collapsed": true
   },
   "outputs": [],
   "source": [
    "## Example OOIP calculation - remember to be careful with your units\n",
    "h=2\n",
    "o=0.01\n",
    "Sw=0.4\n",
    "Bo =1.3\n",
    "a = 120000"
   ]
  },
  {
   "cell_type": "code",
   "execution_count": null,
   "metadata": {
    "collapsed": false
   },
   "outputs": [],
   "source": [
    "## Now I am going to define the OOIP function\n",
    "def functionOOIP(a,h,o,Sw):\n",
    "\n",
    "    OOIP = (7758 *a* h * o * (1-Sw))/Bo\n",
    "\n",
    "    return OOIP\n",
    "\n",
    "val = functionOOIP(a,h,o,Sw)/1000000 ## we usually report OOIP in MMCF, million CF\n",
    "print val"
   ]
  },
  {
   "cell_type": "code",
   "execution_count": null,
   "metadata": {
    "collapsed": false
   },
   "outputs": [],
   "source": [
    "## You can define the OGIP function here!"
   ]
  },
  {
   "cell_type": "markdown",
   "metadata": {},
   "source": [
    "## Q7: Make a map of the La Trobe Oil field in Australia"
   ]
  },
  {
   "cell_type": "code",
   "execution_count": null,
   "metadata": {
    "collapsed": true
   },
   "outputs": [],
   "source": [
    "## Make a map here!"
   ]
  },
  {
   "cell_type": "code",
   "execution_count": null,
   "metadata": {
    "collapsed": true
   },
   "outputs": [],
   "source": [
    "## Back calculate the reservoir thickness of the field here!"
   ]
  },
  {
   "cell_type": "markdown",
   "metadata": {},
   "source": [
    "## `$$$$$$$$$$$`"
   ]
  },
  {
   "cell_type": "markdown",
   "metadata": {},
   "source": [
    "## Q8: Million Dollar Madness\n",
    "Your company, MDM (million dollar madness) decide to purchase the acreage that contains the East Natuna field in the South China Sea (off Northern Natuna Island in Indonesia). Design a map for your management that introduces them to the region."
   ]
  },
  {
   "cell_type": "code",
   "execution_count": null,
   "metadata": {
    "collapsed": false
   },
   "outputs": [],
   "source": [
    "## Map of the East Natuna Field, located at 5.5N, 109E\n"
   ]
  },
  {
   "cell_type": "code",
   "execution_count": null,
   "metadata": {
    "collapsed": false
   },
   "outputs": [],
   "source": [
    "## Let's lookup the reserves information for this field\n",
    "for info, shape in zip(map.Oil_Gas_Outlines_info, map.Oil_Gas_Outlines):\n",
    "    if info['NAME'] == 'East Natuna':\n",
    "        print (info['NAME'],info['O_G'],info['KWN_OIL'],info['KWN_GAS'])"
   ]
  },
  {
   "cell_type": "markdown",
   "metadata": {},
   "source": [
    "It turns out your exploration was successful but the USGS grossly overestimated the gas reserve in place. Your exploration reveals the field is 70 000 acres with 5ft of a sandstone reservoir that has 8% porosity and only 20% water saturation. Calculate the gas reserves for this field."
   ]
  },
  {
   "cell_type": "code",
   "execution_count": null,
   "metadata": {
    "collapsed": true
   },
   "outputs": [],
   "source": [
    "## OGIP = Be careful with units\n"
   ]
  },
  {
   "cell_type": "markdown",
   "metadata": {},
   "source": [
    "# Q9: Profit and Loss Table\n",
    "You do not need to use iPython for this question (although you can if you wish)"
   ]
  },
  {
   "cell_type": "code",
   "execution_count": null,
   "metadata": {
    "collapsed": true
   },
   "outputs": [],
   "source": []
  }
 ],
 "metadata": {
  "kernelspec": {
   "display_name": "Python 2",
   "language": "python",
   "name": "python2"
  },
  "language_info": {
   "codemirror_mode": {
    "name": "ipython",
    "version": 2
   },
   "file_extension": ".py",
   "mimetype": "text/x-python",
   "name": "python",
   "nbconvert_exporter": "python",
   "pygments_lexer": "ipython2",
   "version": "2.7.9"
  }
 },
 "nbformat": 4,
 "nbformat_minor": 0
}
