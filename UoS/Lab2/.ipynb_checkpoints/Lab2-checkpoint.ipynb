{
 "cells": [
  {
   "cell_type": "markdown",
   "metadata": {},
   "source": [
    "# Lab 2 \n",
    "\n",
    "# Analyse Badlands surface processes model output\n",
    "\n",
    "[Badlands](https://github.com/badlands-model/Badlands-doc) produces [Hdf5](https://www.hdfgroup.org/HDF5/) models that we will load, read and process with IPython.\n",
    "\n",
    "To perform our data analyse we first need to import a series of library s we did with **Basemap** in the first Lab. We will need \n",
    "- the **h5py** library to work with the Hdf5 files,\n",
    "- the usual numeric and plotting python libraries **numpy** & matplotlib.\n",
    "\n",
    "Badlands computes the surface evolution on an irregular grid and to render the cross-section in this notebook we will forst interpolate the stratigraphic layers from the irregular grid on a regular mesh. To do this we will need the interpolation function from matplotlib **ml** library called."
   ]
  },
  {
   "cell_type": "code",
   "execution_count": null,
   "metadata": {
    "collapsed": false
   },
   "outputs": [],
   "source": [
    "import h5py\n",
    "import numpy as np\n",
    "import matplotlib.mlab as ml\n",
    "import matplotlib.pyplot as plt\n",
    "\n",
    "%matplotlib inline"
   ]
  },
  {
   "cell_type": "markdown",
   "metadata": {},
   "source": [
    "The outputs from Badlands contain more than 10 parameters. For our LAB we will only require:\n",
    "- the position of the irregular points and \n",
    "- the thicknesses of each sedimentary layers recorded on each of these points.\n",
    "\n",
    "Badlands could be ran on several processors to increase its performance. Here we have used 2 processors. Each processor is working on a different region of the grid and the output for each processors are given in a different file. When extracting the data from the files we have to merge these data together. \n",
    "\n",
    "We then need to Interpolate the data from the irregular mesh to a regular one\n",
    "\n",
    "To create out regular mesh we need to:\n",
    "- define the resolution `res`, \n",
    "- compute the number of points along the X & Y axis (`nx, ny`), \n",
    "- create the points coordinate for each axes (`linspace`)."
   ]
  },
  {
   "cell_type": "code",
   "execution_count": null,
   "metadata": {
    "collapsed": false
   },
   "outputs": [],
   "source": [
    "def read_h5file(folder,step):\n",
    "    \n",
    "    for i in range(0, 1):\n",
    "        # Load the Hdf5 file\n",
    "        df = h5py.File('%s/SurfaceSPM.%s.p%s.h5'%(folder, step, i), 'r')\n",
    "        # Extract the point coordinates\n",
    "        vertices = np.array((df['/vertices']))\n",
    "        # Extract the node IDs\n",
    "        nID = np.array((df['/nID']))\n",
    "        # Extract the sedimentary layer thicknesses\n",
    "        layH = np.array((df['/layth']))\n",
    "    \n",
    "        # Combine values from the 2 processors in a unique array using the append command\n",
    "        if i == 0:\n",
    "            x, y, z = np.hsplit(vertices, 3)\n",
    "            gID = nID\n",
    "            glayH = layH\n",
    "        else:\n",
    "            gID = np.append(gID, nID)\n",
    "            glayH = np.append(glayH, layH)\n",
    "            x = np.append(x, vertices[:,0])\n",
    "            y = np.append(y, vertices[:,1])\n",
    "            z = np.append(z, vertices[:,2])\n",
    "    # Number of stratigraphic horizons recorded in tge output\n",
    "    nlay = int(step)+1    \n",
    "    layArray = glayH.reshape((len(x),nlay))\n",
    "    # Check if there are values existing on both processors\n",
    "    # and delete any duplicates\n",
    "    filterID, indices = np.unique(gID, return_index = True)\n",
    "    merged = np.column_stack((x, y, z))\n",
    "    topo = merged[indices, :]\n",
    "    x = topo[:,0]\n",
    "    y = topo[:,1]\n",
    "    z = topo[:,2]\n",
    "    layTH = layArray[indices, 1:]\n",
    "    \n",
    "    return x, y, z, layTH\n",
    "\n",
    "x, y, z, layTH = read_h5file('../Data/static/outputs','0020')\n",
    "\n",
    "# resolution\n",
    "res = 100. \n",
    "\n",
    "# number of points along X-axis\n",
    "nx = int((x.max() - x.min())/res+1)\n",
    "# number of points along Y-axis\n",
    "ny = int((y.max() - y.min())/res+1)\n",
    "\n",
    "# Define linearly spaced data along each axis\n",
    "xi = np.linspace(x.min(), x.max(), nx)\n",
    "yi = np.linspace(y.min(), y.max(), ny)\n",
    "\n",
    "# Create the regular mesh\n",
    "xi, yi = np.meshgrid(xi, yi)"
   ]
  },
  {
   "cell_type": "markdown",
   "metadata": {},
   "source": [
    "Then we perform a linear (`linear`) interpolation using the `griddata` function. First for the elevation values (`z`)\n",
    "For the thickness of the stratigraphic layers, we need to perform the interpolation on individual layers:\n",
    "\n",
    "** This step could take several minutes as there are 20 layers to interpolate on the entire mesh.**\n",
    "\n",
    "We then need to compute sedimentary layers elevations. To visualise the sedimentary layers in cross-sections we need to derive each layer elevations from their thicknesses. To do that we start from the surface and iterate successively over the layers by adding incrementally each layer thickness."
   ]
  },
  {
   "cell_type": "code",
   "execution_count": null,
   "metadata": {
    "collapsed": true
   },
   "outputs": [],
   "source": [
    "zi = ml.griddata(x,y,z,xi,yi,interp='linear')  \n",
    "# Declare a zero array to store stratigraphic layers thicknesses\n",
    "strati = np.zeros((zi.shape[0],zi.shape[1],layTH.shape[1]))\n",
    "\n",
    "# Loop from the sedimentary layer number and perform interpolation\n",
    "for i in range(layTH.shape[1]):\n",
    "    stratal =  ml.griddata(x,y,layTH[:,i],xi,yi,interp='linear') \n",
    "    # Store the result in array strati\n",
    "    strati[:,:,i] = stratal    \n",
    "\n",
    "# Declare a zero array to store stratigraphic layers elevations \n",
    "stratiElev = np.zeros((zi.shape[0],zi.shape[1],layTH.shape[1]))\n",
    "\n",
    "# Loop from the sedimentary layer number and convert stratal thickness to elevation\n",
    "stratiElev[:,:,layTH.shape[1]-1] = zi[:,:]\n",
    "for i in range(layTH.shape[1]-2,-1,-1):\n",
    "    stratiElev[:,:,i] = stratiElev[:,:,i+1] - strati[:,:,i+1]"
   ]
  },
  {
   "cell_type": "markdown",
   "metadata": {},
   "source": [
    "# Q1. Plotting the sedimentary layers in cross section\n",
    "\n",
    "The simulated region is a 24 by 24 kilometer squared area. We will make a cross-section along the X-axis passing through the middle of the Y-axis.\n",
    "\n",
    "For this we set the following parameters:\n",
    "- coordinates of the Y-axis position `pty`,\n",
    "- index of the points on the Y-axis for this coordinate `yID`,\n",
    "- X-axis cross-section line coordinates.\n",
    "\n",
    "In addition, we define several parameters for the plot such as:\n",
    "- the extent of the graph, \n",
    "- the base of the model and\n",
    "- the sea-level position at the end of the simulation (**it will vary for each model: as per the model conditions outlined below and in your LAB notes**)"
   ]
  },
  {
   "cell_type": "markdown",
   "metadata": {},
   "source": [
    "## Model Conditions\n",
    "Four different models with varying sea-level inputs have been ran with Badlands. You will use IPython to analyse and interpret the results of these models. Badlands model simulates the erosion, transport and deposition of sediments by rain under geological time scale. For the 4 models that we are going to analyse the initial surface represents a mount which is a half ellipsoid of 2000 m\n",
    "height and about 8 km large. An uniform precipitation rate of 1 m/yr is applied on the all area and the evolution of the surface is due to both hillslopes and overland flows. Two hillslope coefficient are defined for both the aerial and marine area.\n",
    "The simulation runs for 500,000 years and for each models we impose different sea-level condition through time (values are defined in the plot on next page for the first 3 models).\n",
    "In a nutshell, the first model simulates the erosion of the mount and the development of prograding deltas under a constant sea-level. For the second model, we impose in 5 steps a sea-level fall from 0 to -200m. For the third model, the sealevel rise from -150 to 50 m in 5 steps as well.\n"
   ]
  },
  {
   "cell_type": "code",
   "execution_count": null,
   "metadata": {
    "collapsed": false
   },
   "outputs": [],
   "source": [
    "# Y value for the cross-section\n",
    "pty = 12000.\n",
    "# Find the ID of the node along the Y-axis that has the chosen coordinate\n",
    "yID = int((pty - yi.min())/res)\n",
    "\n",
    "# Define the cross-section line\n",
    "xi00 = np.linspace(x.min(), x.max(), nx)\n",
    "\n",
    "# Additional parameters used to define plot extent\n",
    "minX = x.min()\n",
    "maxX = x.max()\n",
    "minZ = zi[yID,:].min()\n",
    "maxZ = zi[yID,:].max()\n",
    "\n",
    "# The base of the model is fixed to -600 m\n",
    "base = np.zeros((xi00.shape[0]))\n",
    "base.fill(-600.)\n",
    "\n",
    "# Define sea-level elevation\n",
    "sl = np.zeros((xi00.shape[0]))\n",
    "sl.fill(0.)"
   ]
  },
  {
   "cell_type": "markdown",
   "metadata": {},
   "source": [
    "## Model 1\n",
    "To make the plot easy to read we will not output every layers (20) on the graph but only one every 2 layers. We will consider that each group of consecutive 50 layers represent a uniform sedimentary stack and we will color 2 successive groups differently to better represent the stratal evolution.\n",
    "\n",
    "\n",
    "Label the axes and give your figures headings..\n",
    "\n",
    "You can right click on the produced images to safe them, or you can drag and drop the images to a file location. Include your model images as an appendix to your lab report"
   ]
  },
  {
   "cell_type": "code",
   "execution_count": null,
   "metadata": {
    "collapsed": false
   },
   "outputs": [],
   "source": [
    "# Define the figure size and font\n",
    "fig = plt.figure(figsize = (15,10))\n",
    "plt.rc(\"font\", size=10)\n",
    "\n",
    "# Fill the space between the top surface and the sea-level in blue\n",
    "plt.fill_between(xi00, stratiElev[yID,:,0], sl, where=sl > stratiElev[yID,:,0], color='lightblue', alpha='0.5')\n",
    "\n",
    "\n",
    "# Loop through the 20 layers and plot only every 2 layers\n",
    "layID = []\n",
    "p = 0\n",
    "for i in range(0,layTH.shape[1]-1,2):\n",
    "    layID.append(i)\n",
    "    if i>0:\n",
    "        plt.plot(xi00,stratiElev[yID,:,i],'-',color='k',linewidth=1)\n",
    "        \n",
    "    if len(layID) > 1:\n",
    "        # For every even number plot the sedimentary stack in grey\n",
    "        if len(layID)%2 == 0:\n",
    "            plt.fill_between(xi00, stratiElev[yID,:,layID[p-1]], stratiElev[yID,:,layID[p]], color='grey', alpha='0.5')\n",
    "        # For every odd number plot the sedimentary stack in green\n",
    "        else:\n",
    "            plt.fill_between(xi00, stratiElev[yID,:,layID[p-1]], stratiElev[yID,:,layID[p]], color='palegreen', alpha='0.5')\n",
    "    p = p+1\n",
    "\n",
    "# Plot the bottom layer\n",
    "plt.plot(xi00,stratiElev[yID,:,0],'-',color='k',linewidth=2)\n",
    "\n",
    "# Fill the space between the bottom sedimentary layer and the base of the model in grey\n",
    "plt.fill_between(xi00, base, stratiElev[yID,:,layID[p-1]], color='lightgrey', alpha='0.5')\n",
    "\n",
    "# Define extent, axes and legend\n",
    "plt.xlim( minX+600, maxX-700 )\n",
    "plt.ylim( -600, 1500 )\n",
    "plt.grid(True)\n",
    "plt.title('Stratigraphic layers for every 50,000 years',fontsize=12)\n",
    "plt.xlabel('X axis (m)',fontsize=10)\n",
    "plt.ylabel('Elevation (m)',fontsize=10)"
   ]
  },
  {
   "cell_type": "markdown",
   "metadata": {
    "collapsed": true
   },
   "source": [
    "## Model 2"
   ]
  },
  {
   "cell_type": "code",
   "execution_count": null,
   "metadata": {
    "collapsed": true
   },
   "outputs": [],
   "source": [
    "## Plot Model 2 here!"
   ]
  }
 ],
 "metadata": {
  "kernelspec": {
   "display_name": "Python 2",
   "language": "python",
   "name": "python2"
  },
  "language_info": {
   "codemirror_mode": {
    "name": "ipython",
    "version": 2
   },
   "file_extension": ".py",
   "mimetype": "text/x-python",
   "name": "python",
   "nbconvert_exporter": "python",
   "pygments_lexer": "ipython2",
   "version": "2.7.9"
  }
 },
 "nbformat": 4,
 "nbformat_minor": 0
}
